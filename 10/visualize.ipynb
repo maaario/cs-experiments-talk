{
 "cells": [
  {
   "cell_type": "markdown",
   "metadata": {},
   "source": [
    "## Imports"
   ]
  },
  {
   "cell_type": "code",
   "execution_count": 1,
   "metadata": {},
   "outputs": [],
   "source": [
    "import os\n",
    "\n",
    "import matplotlib.pyplot as plt\n",
    "\n",
    "from analysis import load_experiment_results, process_exp_results_to_df"
   ]
  },
  {
   "cell_type": "markdown",
   "metadata": {},
   "source": [
    "## Load experimental data"
   ]
  },
  {
   "cell_type": "code",
   "execution_count": 20,
   "metadata": {},
   "outputs": [
    {
     "data": {
      "text/html": [
       "<div>\n",
       "<style scoped>\n",
       "    .dataframe tbody tr th:only-of-type {\n",
       "        vertical-align: middle;\n",
       "    }\n",
       "\n",
       "    .dataframe tbody tr th {\n",
       "        vertical-align: top;\n",
       "    }\n",
       "\n",
       "    .dataframe thead th {\n",
       "        text-align: right;\n",
       "    }\n",
       "</style>\n",
       "<table border=\"1\" class=\"dataframe\">\n",
       "  <thead>\n",
       "    <tr style=\"text-align: right;\">\n",
       "      <th></th>\n",
       "      <th>average</th>\n",
       "      <th>data</th>\n",
       "      <th>max_epochs</th>\n",
       "      <th>method</th>\n",
       "      <th>min</th>\n",
       "      <th>num_repeats</th>\n",
       "      <th>pop_size</th>\n",
       "      <th>random_born</th>\n",
       "      <th>repeat</th>\n",
       "      <th>status</th>\n",
       "      <th>survive</th>\n",
       "    </tr>\n",
       "  </thead>\n",
       "  <tbody>\n",
       "    <tr>\n",
       "      <th>2</th>\n",
       "      <td>7.528720e+04</td>\n",
       "      <td>input_data_M2.txt</td>\n",
       "      <td>50.0</td>\n",
       "      <td>sol_genetic</td>\n",
       "      <td>7851</td>\n",
       "      <td>NaN</td>\n",
       "      <td>100.0</td>\n",
       "      <td>0.2</td>\n",
       "      <td>10</td>\n",
       "      <td>COMPLETED</td>\n",
       "      <td>0.2</td>\n",
       "    </tr>\n",
       "    <tr>\n",
       "      <th>1</th>\n",
       "      <td>3.998250e+05</td>\n",
       "      <td>input_data_M2.txt</td>\n",
       "      <td>50.0</td>\n",
       "      <td>sol_genetic</td>\n",
       "      <td>45305</td>\n",
       "      <td>NaN</td>\n",
       "      <td>10.0</td>\n",
       "      <td>0.2</td>\n",
       "      <td>10</td>\n",
       "      <td>COMPLETED</td>\n",
       "      <td>0.2</td>\n",
       "    </tr>\n",
       "    <tr>\n",
       "      <th>7</th>\n",
       "      <td>1.312031e+06</td>\n",
       "      <td>input_data_M2.txt</td>\n",
       "      <td>NaN</td>\n",
       "      <td>sol_repeat_random_half</td>\n",
       "      <td>146829</td>\n",
       "      <td>10000.0</td>\n",
       "      <td>NaN</td>\n",
       "      <td>NaN</td>\n",
       "      <td>10</td>\n",
       "      <td>COMPLETED</td>\n",
       "      <td>NaN</td>\n",
       "    </tr>\n",
       "    <tr>\n",
       "      <th>9</th>\n",
       "      <td>9.612385e+06</td>\n",
       "      <td>input_data_M2.txt</td>\n",
       "      <td>NaN</td>\n",
       "      <td>sol_repeat_random</td>\n",
       "      <td>496687</td>\n",
       "      <td>10000.0</td>\n",
       "      <td>NaN</td>\n",
       "      <td>NaN</td>\n",
       "      <td>10</td>\n",
       "      <td>COMPLETED</td>\n",
       "      <td>NaN</td>\n",
       "    </tr>\n",
       "    <tr>\n",
       "      <th>8</th>\n",
       "      <td>3.466168e+07</td>\n",
       "      <td>input_data_M2.txt</td>\n",
       "      <td>NaN</td>\n",
       "      <td>sol_repeat_random</td>\n",
       "      <td>1313361</td>\n",
       "      <td>1000.0</td>\n",
       "      <td>NaN</td>\n",
       "      <td>NaN</td>\n",
       "      <td>10</td>\n",
       "      <td>COMPLETED</td>\n",
       "      <td>NaN</td>\n",
       "    </tr>\n",
       "    <tr>\n",
       "      <th>6</th>\n",
       "      <td>2.461542e+07</td>\n",
       "      <td>input_data_M2.txt</td>\n",
       "      <td>NaN</td>\n",
       "      <td>sol_repeat_random_half</td>\n",
       "      <td>2873575</td>\n",
       "      <td>1000.0</td>\n",
       "      <td>NaN</td>\n",
       "      <td>NaN</td>\n",
       "      <td>10</td>\n",
       "      <td>COMPLETED</td>\n",
       "      <td>NaN</td>\n",
       "    </tr>\n",
       "    <tr>\n",
       "      <th>5</th>\n",
       "      <td>2.338566e+08</td>\n",
       "      <td>input_data_M2.txt</td>\n",
       "      <td>NaN</td>\n",
       "      <td>sol_repeat_random_half</td>\n",
       "      <td>10625393</td>\n",
       "      <td>100.0</td>\n",
       "      <td>NaN</td>\n",
       "      <td>NaN</td>\n",
       "      <td>10</td>\n",
       "      <td>COMPLETED</td>\n",
       "      <td>NaN</td>\n",
       "    </tr>\n",
       "    <tr>\n",
       "      <th>4</th>\n",
       "      <td>6.597086e+09</td>\n",
       "      <td>input_data_M2.txt</td>\n",
       "      <td>NaN</td>\n",
       "      <td>sol_repeat_random_half</td>\n",
       "      <td>1341245025</td>\n",
       "      <td>10.0</td>\n",
       "      <td>NaN</td>\n",
       "      <td>NaN</td>\n",
       "      <td>10</td>\n",
       "      <td>COMPLETED</td>\n",
       "      <td>NaN</td>\n",
       "    </tr>\n",
       "    <tr>\n",
       "      <th>0</th>\n",
       "      <td>2.230520e+10</td>\n",
       "      <td>input_data_M2.txt</td>\n",
       "      <td>NaN</td>\n",
       "      <td>sol_random</td>\n",
       "      <td>1669190357</td>\n",
       "      <td>NaN</td>\n",
       "      <td>NaN</td>\n",
       "      <td>NaN</td>\n",
       "      <td>10</td>\n",
       "      <td>COMPLETED</td>\n",
       "      <td>NaN</td>\n",
       "    </tr>\n",
       "    <tr>\n",
       "      <th>10</th>\n",
       "      <td>1.875186e+09</td>\n",
       "      <td>input_data_M2.txt</td>\n",
       "      <td>NaN</td>\n",
       "      <td>sol_sort_greedy</td>\n",
       "      <td>1875185989</td>\n",
       "      <td>NaN</td>\n",
       "      <td>NaN</td>\n",
       "      <td>NaN</td>\n",
       "      <td>10</td>\n",
       "      <td>COMPLETED</td>\n",
       "      <td>NaN</td>\n",
       "    </tr>\n",
       "    <tr>\n",
       "      <th>3</th>\n",
       "      <td>2.309735e+10</td>\n",
       "      <td>input_data_M2.txt</td>\n",
       "      <td>NaN</td>\n",
       "      <td>sol_random_half</td>\n",
       "      <td>2295364929</td>\n",
       "      <td>NaN</td>\n",
       "      <td>NaN</td>\n",
       "      <td>NaN</td>\n",
       "      <td>10</td>\n",
       "      <td>COMPLETED</td>\n",
       "      <td>NaN</td>\n",
       "    </tr>\n",
       "  </tbody>\n",
       "</table>\n",
       "</div>"
      ],
      "text/plain": [
       "         average               data  max_epochs                  method  \\\n",
       "2   7.528720e+04  input_data_M2.txt        50.0             sol_genetic   \n",
       "1   3.998250e+05  input_data_M2.txt        50.0             sol_genetic   \n",
       "7   1.312031e+06  input_data_M2.txt         NaN  sol_repeat_random_half   \n",
       "9   9.612385e+06  input_data_M2.txt         NaN       sol_repeat_random   \n",
       "8   3.466168e+07  input_data_M2.txt         NaN       sol_repeat_random   \n",
       "6   2.461542e+07  input_data_M2.txt         NaN  sol_repeat_random_half   \n",
       "5   2.338566e+08  input_data_M2.txt         NaN  sol_repeat_random_half   \n",
       "4   6.597086e+09  input_data_M2.txt         NaN  sol_repeat_random_half   \n",
       "0   2.230520e+10  input_data_M2.txt         NaN              sol_random   \n",
       "10  1.875186e+09  input_data_M2.txt         NaN         sol_sort_greedy   \n",
       "3   2.309735e+10  input_data_M2.txt         NaN         sol_random_half   \n",
       "\n",
       "           min  num_repeats  pop_size  random_born  repeat     status  survive  \n",
       "2         7851          NaN     100.0          0.2      10  COMPLETED      0.2  \n",
       "1        45305          NaN      10.0          0.2      10  COMPLETED      0.2  \n",
       "7       146829      10000.0       NaN          NaN      10  COMPLETED      NaN  \n",
       "9       496687      10000.0       NaN          NaN      10  COMPLETED      NaN  \n",
       "8      1313361       1000.0       NaN          NaN      10  COMPLETED      NaN  \n",
       "6      2873575       1000.0       NaN          NaN      10  COMPLETED      NaN  \n",
       "5     10625393        100.0       NaN          NaN      10  COMPLETED      NaN  \n",
       "4   1341245025         10.0       NaN          NaN      10  COMPLETED      NaN  \n",
       "0   1669190357          NaN       NaN          NaN      10  COMPLETED      NaN  \n",
       "10  1875185989          NaN       NaN          NaN      10  COMPLETED      NaN  \n",
       "3   2295364929          NaN       NaN          NaN      10  COMPLETED      NaN  "
      ]
     },
     "execution_count": 20,
     "metadata": {},
     "output_type": "execute_result"
    }
   ],
   "source": [
    "exp_results = []\n",
    "for exp in sorted([f for f in os.listdir(\"sacred\") if not f.startswith(\"_\")]):\n",
    "    path = os.path.join(\"sacred\", exp)\n",
    "    exp_results.append(load_experiment_results(path))\n",
    "\n",
    "exp_df = process_exp_results_to_df(exp_results)\n",
    "exp_df = exp_df[ exp_df[\"data\"] == \"input_data_M2.txt\" ]\n",
    "exp_df.sort_values(\"min\")"
   ]
  },
  {
   "cell_type": "markdown",
   "metadata": {},
   "source": [
    "## Create plots"
   ]
  },
  {
   "cell_type": "code",
   "execution_count": 21,
   "metadata": {},
   "outputs": [
    {
     "data": {
      "text/plain": [
       "Text(0.5, 1.0, 'Average result by method')"
      ]
     },
     "execution_count": 21,
     "metadata": {},
     "output_type": "execute_result"
    },
    {
     "data": {
      "image/png": "[encoded data removed]",
      "text/plain": [
       "<Figure size 432x288 with 1 Axes>"
      ]
     },
     "metadata": {
      "needs_background": "light"
     },
     "output_type": "display_data"
    }
   ],
   "source": [
    "plt.scatter(exp_df[\"method\"], exp_df[\"average\"])\n",
    "plt.yscale(\"log\")\n",
    "plt.title(\"Average result by method\")"
   ]
  },
  {
   "cell_type": "code",
   "execution_count": 17,
   "metadata": {},
   "outputs": [
    {
     "data": {
      "text/plain": [
       "<matplotlib.legend.Legend at 0x7fb27d05ee48>"
      ]
     },
     "execution_count": 17,
     "metadata": {},
     "output_type": "execute_result"
    },
    {
     "data": {
      "image/png": "[encoded data removed]",
      "text/plain": [
       "<Figure size 432x288 with 1 Axes>"
      ]
     },
     "metadata": {
      "needs_background": "light"
     },
     "output_type": "display_data"
    }
   ],
   "source": [
    "selected = exp_df[ exp_df[\"method\"] == \"sol_repeat_random_half\" ]\n",
    "\n",
    "plt.scatter(selected[\"num_repeats\"], selected[\"average\"], label=\"average\")\n",
    "plt.scatter(selected[\"num_repeats\"], selected[\"min\"], label=\"min\")\n",
    "\n",
    "plt.title(\"Min and average result by number of repeats.\")\n",
    "plt.xscale(\"log\")\n",
    "plt.yscale(\"log\")\n",
    "plt.legend()"
   ]
  },
  {
   "cell_type": "code",
   "execution_count": null,
   "metadata": {},
   "outputs": [],
   "source": []
  }
 ],
 "metadata": {
  "kernelspec": {
   "display_name": "Python 3",
   "language": "python",
   "name": "python3"
  },
  "language_info": {
   "codemirror_mode": {
    "name": "ipython",
    "version": 3
   },
   "file_extension": ".py",
   "mimetype": "text/x-python",
   "name": "python",
   "nbconvert_exporter": "python",
   "pygments_lexer": "ipython3",
   "version": "3.5.2"
  }
 },
 "nbformat": 4,
 "nbformat_minor": 2
}
