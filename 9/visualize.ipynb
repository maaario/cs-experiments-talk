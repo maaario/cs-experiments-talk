{
 "cells": [
  {
   "cell_type": "markdown",
   "metadata": {},
   "source": [
    "## Imports"
   ]
  },
  {
   "cell_type": "code",
   "execution_count": 3,
   "metadata": {},
   "outputs": [],
   "source": [
    "import os\n",
    "\n",
    "import matplotlib.pyplot as plt\n",
    "\n",
    "from analysis import load_experiment_results, process_exp_results_to_df"
   ]
  },
  {
   "cell_type": "markdown",
   "metadata": {},
   "source": [
    "## Load experimental data"
   ]
  },
  {
   "cell_type": "code",
   "execution_count": 12,
   "metadata": {},
   "outputs": [
    {
     "data": {
      "text/html": [
       "<div>\n",
       "<style scoped>\n",
       "    .dataframe tbody tr th:only-of-type {\n",
       "        vertical-align: middle;\n",
       "    }\n",
       "\n",
       "    .dataframe tbody tr th {\n",
       "        vertical-align: top;\n",
       "    }\n",
       "\n",
       "    .dataframe thead th {\n",
       "        text-align: right;\n",
       "    }\n",
       "</style>\n",
       "<table border=\"1\" class=\"dataframe\">\n",
       "  <thead>\n",
       "    <tr style=\"text-align: right;\">\n",
       "      <th></th>\n",
       "      <th>average</th>\n",
       "      <th>method</th>\n",
       "      <th>min</th>\n",
       "      <th>num_repeats</th>\n",
       "      <th>repeat</th>\n",
       "      <th>status</th>\n",
       "    </tr>\n",
       "  </thead>\n",
       "  <tbody>\n",
       "    <tr>\n",
       "      <th>5</th>\n",
       "      <td>1.2</td>\n",
       "      <td>sol_repeat_random_half</td>\n",
       "      <td>1</td>\n",
       "      <td>10000.0</td>\n",
       "      <td>10</td>\n",
       "      <td>COMPLETED</td>\n",
       "    </tr>\n",
       "    <tr>\n",
       "      <th>4</th>\n",
       "      <td>13.6</td>\n",
       "      <td>sol_repeat_random_half</td>\n",
       "      <td>3</td>\n",
       "      <td>1000.0</td>\n",
       "      <td>10</td>\n",
       "      <td>COMPLETED</td>\n",
       "    </tr>\n",
       "    <tr>\n",
       "      <th>3</th>\n",
       "      <td>69.0</td>\n",
       "      <td>sol_repeat_random_half</td>\n",
       "      <td>3</td>\n",
       "      <td>100.0</td>\n",
       "      <td>10</td>\n",
       "      <td>COMPLETED</td>\n",
       "    </tr>\n",
       "    <tr>\n",
       "      <th>6</th>\n",
       "      <td>119.0</td>\n",
       "      <td>sol_sort_greedy</td>\n",
       "      <td>119</td>\n",
       "      <td>NaN</td>\n",
       "      <td>10</td>\n",
       "      <td>COMPLETED</td>\n",
       "    </tr>\n",
       "    <tr>\n",
       "      <th>7</th>\n",
       "      <td>196.2</td>\n",
       "      <td>sol_repeat_random_half</td>\n",
       "      <td>5</td>\n",
       "      <td>50.0</td>\n",
       "      <td>10</td>\n",
       "      <td>COMPLETED</td>\n",
       "    </tr>\n",
       "    <tr>\n",
       "      <th>2</th>\n",
       "      <td>845.6</td>\n",
       "      <td>sol_repeat_random_half</td>\n",
       "      <td>91</td>\n",
       "      <td>10.0</td>\n",
       "      <td>10</td>\n",
       "      <td>COMPLETED</td>\n",
       "    </tr>\n",
       "    <tr>\n",
       "      <th>0</th>\n",
       "      <td>9271.6</td>\n",
       "      <td>sol_random</td>\n",
       "      <td>455</td>\n",
       "      <td>NaN</td>\n",
       "      <td>10</td>\n",
       "      <td>COMPLETED</td>\n",
       "    </tr>\n",
       "    <tr>\n",
       "      <th>1</th>\n",
       "      <td>10373.0</td>\n",
       "      <td>sol_random_half</td>\n",
       "      <td>3597</td>\n",
       "      <td>NaN</td>\n",
       "      <td>10</td>\n",
       "      <td>COMPLETED</td>\n",
       "    </tr>\n",
       "  </tbody>\n",
       "</table>\n",
       "</div>"
      ],
      "text/plain": [
       "   average                  method   min  num_repeats  repeat     status\n",
       "5      1.2  sol_repeat_random_half     1      10000.0      10  COMPLETED\n",
       "4     13.6  sol_repeat_random_half     3       1000.0      10  COMPLETED\n",
       "3     69.0  sol_repeat_random_half     3        100.0      10  COMPLETED\n",
       "6    119.0         sol_sort_greedy   119          NaN      10  COMPLETED\n",
       "7    196.2  sol_repeat_random_half     5         50.0      10  COMPLETED\n",
       "2    845.6  sol_repeat_random_half    91         10.0      10  COMPLETED\n",
       "0   9271.6              sol_random   455          NaN      10  COMPLETED\n",
       "1  10373.0         sol_random_half  3597          NaN      10  COMPLETED"
      ]
     },
     "execution_count": 12,
     "metadata": {},
     "output_type": "execute_result"
    }
   ],
   "source": [
    "exp_results = []\n",
    "for exp in sorted([f for f in os.listdir(\"sacred\") if not f.startswith(\"_\")]):\n",
    "    path = os.path.join(\"sacred\", exp)\n",
    "    exp_results.append(load_experiment_results(path))\n",
    "\n",
    "exp_df = process_exp_results_to_df(exp_results)\n",
    "exp_df.sort_values(\"average\")"
   ]
  },
  {
   "cell_type": "markdown",
   "metadata": {},
   "source": [
    "## Create plots"
   ]
  },
  {
   "cell_type": "code",
   "execution_count": 14,
   "metadata": {},
   "outputs": [
    {
     "data": {
      "text/plain": [
       "Text(0.5, 1.0, 'Average result by method')"
      ]
     },
     "execution_count": 14,
     "metadata": {},
     "output_type": "execute_result"
    },
    {
     "data": {
      "image/png": "[encoded data removed]",
      "text/plain": [
       "<Figure size 432x288 with 1 Axes>"
      ]
     },
     "metadata": {
      "needs_background": "light"
     },
     "output_type": "display_data"
    }
   ],
   "source": [
    "plt.scatter(exp_df[\"method\"], exp_df[\"average\"])\n",
    "plt.yscale(\"log\")\n",
    "plt.title(\"Average result by method\")"
   ]
  },
  {
   "cell_type": "code",
   "execution_count": 13,
   "metadata": {},
   "outputs": [
    {
     "data": {
      "text/plain": [
       "<matplotlib.legend.Legend at 0x7f7a5a39b4a8>"
      ]
     },
     "execution_count": 13,
     "metadata": {},
     "output_type": "execute_result"
    },
    {
     "data": {
      "image/png": "[encoded data removed]",
      "text/plain": [
       "<Figure size 432x288 with 1 Axes>"
      ]
     },
     "metadata": {
      "needs_background": "light"
     },
     "output_type": "display_data"
    }
   ],
   "source": [
    "selected = exp_df[ exp_df[\"method\"] == \"sol_repeat_random_half\" ]\n",
    "\n",
    "plt.scatter(selected[\"num_repeats\"], selected[\"average\"], label=\"average\")\n",
    "plt.scatter(selected[\"num_repeats\"], selected[\"min\"], label=\"min\")\n",
    "\n",
    "plt.title(\"Min and average result by number of repeats.\")\n",
    "plt.xscale(\"log\")\n",
    "plt.legend()"
   ]
  },
  {
   "cell_type": "code",
   "execution_count": null,
   "metadata": {},
   "outputs": [],
   "source": []
  }
 ],
 "metadata": {
  "kernelspec": {
   "display_name": "Python 3",
   "language": "python",
   "name": "python3"
  },
  "language_info": {
   "codemirror_mode": {
    "name": "ipython",
    "version": 3
   },
   "file_extension": ".py",
   "mimetype": "text/x-python",
   "name": "python",
   "nbconvert_exporter": "python",
   "pygments_lexer": "ipython3",
   "version": "3.5.2"
  }
 },
 "nbformat": 4,
 "nbformat_minor": 2
}
